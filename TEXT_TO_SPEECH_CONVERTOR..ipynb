{
 "cells": [
  {
   "cell_type": "code",
   "execution_count": 1,
   "id": "e0c739e2",
   "metadata": {},
   "outputs": [
    {
     "name": "stdout",
     "output_type": "stream",
     "text": [
      "Collecting gtts\n",
      "  Downloading gTTS-2.2.3-py3-none-any.whl (25 kB)\n",
      "Requirement already satisfied: six in c:\\users\\yuv\\anaconda3\\lib\\site-packages (from gtts) (1.15.0)\n",
      "Requirement already satisfied: requests in c:\\users\\yuv\\anaconda3\\lib\\site-packages (from gtts) (2.25.1)\n",
      "Requirement already satisfied: click in c:\\users\\yuv\\anaconda3\\lib\\site-packages (from gtts) (7.1.2)\n",
      "Requirement already satisfied: urllib3<1.27,>=1.21.1 in c:\\users\\yuv\\anaconda3\\lib\\site-packages (from requests->gtts) (1.26.4)\n",
      "Requirement already satisfied: chardet<5,>=3.0.2 in c:\\users\\yuv\\anaconda3\\lib\\site-packages (from requests->gtts) (4.0.0)\n",
      "Requirement already satisfied: certifi>=2017.4.17 in c:\\users\\yuv\\anaconda3\\lib\\site-packages (from requests->gtts) (2020.12.5)\n",
      "Requirement already satisfied: idna<3,>=2.5 in c:\\users\\yuv\\anaconda3\\lib\\site-packages (from requests->gtts) (2.10)\n",
      "Installing collected packages: gtts\n",
      "Successfully installed gtts-2.2.3\n",
      "Note: you may need to restart the kernel to use updated packages.\n"
     ]
    }
   ],
   "source": [
    "pip install gtts"
   ]
  },
  {
   "cell_type": "code",
   "execution_count": null,
   "id": "5215230d",
   "metadata": {},
   "outputs": [],
   "source": []
  },
  {
   "cell_type": "code",
   "execution_count": 12,
   "id": "c52b5aba",
   "metadata": {},
   "outputs": [
    {
     "data": {
      "text/plain": [
       "0"
      ]
     },
     "execution_count": 12,
     "metadata": {},
     "output_type": "execute_result"
    }
   ],
   "source": [
    "from gtts import gTTS #google text to speech convertor\n",
    "import os\n",
    "fh=open(\"Nehatest.txt\",\"r\")   #opening the file\n",
    "mytext=fh.read().replace(\"\\n\",\" \") #reading the file\n",
    "language=\"en\"    #selecting the language\n",
    "output=gTTS(text=mytext,lang=language,slow=False) #output\n",
    "output.save(\"output.mp3\")   #saving the output\n",
    "fh.close()   #closing the file\n",
    "os.system(\"start output.mp3\")    #playing the audio as output."
   ]
  },
  {
   "cell_type": "code",
   "execution_count": null,
   "id": "48f4a530",
   "metadata": {},
   "outputs": [],
   "source": []
  },
  {
   "cell_type": "code",
   "execution_count": null,
   "id": "048ff50c",
   "metadata": {},
   "outputs": [],
   "source": []
  }
 ],
 "metadata": {
  "kernelspec": {
   "display_name": "Python 3",
   "language": "python",
   "name": "python3"
  },
  "language_info": {
   "codemirror_mode": {
    "name": "ipython",
    "version": 3
   },
   "file_extension": ".py",
   "mimetype": "text/x-python",
   "name": "python",
   "nbconvert_exporter": "python",
   "pygments_lexer": "ipython3",
   "version": "3.8.8"
  }
 },
 "nbformat": 4,
 "nbformat_minor": 5
}
